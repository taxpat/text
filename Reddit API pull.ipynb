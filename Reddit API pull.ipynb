{
 "cells": [
  {
   "cell_type": "markdown",
   "id": "0c8869d4",
   "metadata": {
    "id": "0c8869d4"
   },
   "source": [
    "# Module 2: Reddit \\& Bing Search APIs\n",
    "\n",
    "In this demo I will demonstrate how to utilize the reddit API and Bing Search to pull news articles and posts as a source of external data.\n",
    "\n",
    "First, I will show how to create a Reddit personal use script for accessing the Reddit API. This will require having a reddit account, if you don't have one, follow along using the provided excel file.\n",
    "\n",
    "Then, we will all create a university account on Azure, and then create a Bing Search resource to access the Bing Search API.\n",
    "\n",
    "Use this link to create a personal use script for the Reddit API [Click Here](https://www.reddit.com/prefs/apps)"
   ]
  },
  {
   "cell_type": "markdown",
   "id": "1b9051ea",
   "metadata": {
    "id": "1b9051ea"
   },
   "source": [
    "## Load in Dependcies, pip install praw"
   ]
  },
  {
   "cell_type": "code",
   "execution_count": 1,
   "id": "cbb362b1",
   "metadata": {
    "id": "cbb362b1"
   },
   "outputs": [],
   "source": [
    "import praw\n",
    "\n",
    "from datetime import datetime\n",
    "from datetime import date\n",
    "import os\n",
    "import pandas as pd\n",
    "import re\n",
    "import string"
   ]
  },
  {
   "cell_type": "markdown",
   "id": "8d5e5e14",
   "metadata": {
    "id": "8d5e5e14"
   },
   "source": [
    "## Specify Reddit credentials and subreddits to be scraped"
   ]
  },
  {
   "cell_type": "code",
   "execution_count": 9,
   "id": "06ce7f92",
   "metadata": {
    "id": "06ce7f92"
   },
   "outputs": [],
   "source": [
    "#Create a Reddit instance\n",
    "reddit = praw.Reddit(client_id= os.environ['REDDIT_CLIENT_ID'],\n",
    "                     client_secret= os.environ['REDDIT_CLIENT_SECRET'],\n",
    "                     user_agent='reddit_appv1')\n",
    "\n",
    "\n",
    "# not a secure way to store credentials, consider using a separate file, creating environment variables, keyvault, etc."
   ]
  },
  {
   "cell_type": "code",
   "execution_count": 5,
   "id": "cd5b8930",
   "metadata": {
    "id": "cd5b8930"
   },
   "outputs": [],
   "source": [
    "# Specify the subreddit names you want to retrieve posts from\n",
    "left_subreddit_names = ['politics', 'democrats', 'liberal']\n",
    "right_subreddit_names = ['conservative', 'libertarian', 'republican']"
   ]
  },
  {
   "cell_type": "code",
   "execution_count": 6,
   "id": "f564e7e6",
   "metadata": {},
   "outputs": [],
   "source": [
    "subreddit_names = ['politics', 'democrats', 'liberal','conservative', 'libertarian', 'republican']"
   ]
  },
  {
   "cell_type": "markdown",
   "id": "f108bfb7",
   "metadata": {
    "id": "f108bfb7"
   },
   "source": [
    "## Pull in selected Post Attributes, store and convert to dataframe"
   ]
  },
  {
   "cell_type": "code",
   "execution_count": 7,
   "id": "5363efee",
   "metadata": {},
   "outputs": [],
   "source": [
    "subreddit_names = ['politics', 'democrats', 'liberal','conservative', 'libertarian', 'republican']"
   ]
  },
  {
   "cell_type": "code",
   "execution_count": 10,
   "id": "a084c2e8",
   "metadata": {
    "id": "a084c2e8"
   },
   "outputs": [],
   "source": [
    "post_attributes = []# create an empty post_attributes list\n",
    "\n",
    "for subreddit_name in subreddit_names:\n",
    "    subreddit = reddit.subreddit(subreddit_name)# set subreddits\n",
    "    posts = subreddit.top(limit = 100) # set post parameters\n",
    "\n",
    "    for post in posts: # pull in the following post attributes\n",
    "        post_attributes.append({\n",
    "            'Title': post.title,\n",
    "            'Content': post.selftext,\n",
    "            'URL': post.url,\n",
    "            'Date': datetime.utcfromtimestamp(post.created_utc).strftime('%Y-%m-%d'),\n",
    "            'Provider': subreddit_name\n",
    "        })\n",
    "\n",
    "df_red = pd.DataFrame(post_attributes)# create dataframe\n",
    "\n",
    "df_red.head(10)\n",
    "df_red['All_Text'] = df_red['Title'] + \" \" + df_red['Content']# create all_text column\n",
    "df_red['Source'] = 'Reddit'  # create source column\n",
    "# display dataframe"
   ]
  },
  {
   "cell_type": "code",
   "execution_count": 5,
   "id": "b7e84530",
   "metadata": {},
   "outputs": [
    {
     "data": {
      "text/html": [
       "<div>\n",
       "<style scoped>\n",
       "    .dataframe tbody tr th:only-of-type {\n",
       "        vertical-align: middle;\n",
       "    }\n",
       "\n",
       "    .dataframe tbody tr th {\n",
       "        vertical-align: top;\n",
       "    }\n",
       "\n",
       "    .dataframe thead th {\n",
       "        text-align: right;\n",
       "    }\n",
       "</style>\n",
       "<table border=\"1\" class=\"dataframe\">\n",
       "  <thead>\n",
       "    <tr style=\"text-align: right;\">\n",
       "      <th></th>\n",
       "      <th>Title</th>\n",
       "      <th>Content</th>\n",
       "      <th>URL</th>\n",
       "      <th>Date</th>\n",
       "      <th>Provider</th>\n",
       "      <th>Political Lean</th>\n",
       "      <th>All_Text</th>\n",
       "      <th>Source</th>\n",
       "    </tr>\n",
       "  </thead>\n",
       "  <tbody>\n",
       "    <tr>\n",
       "      <th>0</th>\n",
       "      <td>Megathread: Joe Biden Projected to Defeat Pres...</td>\n",
       "      <td>Former Vice President Joseph Biden has secured...</td>\n",
       "      <td>https://www.reddit.com/r/politics/comments/jpt...</td>\n",
       "      <td>2020-11-07</td>\n",
       "      <td>politics</td>\n",
       "      <td>left</td>\n",
       "      <td>Megathread: Joe Biden Projected to Defeat Pres...</td>\n",
       "      <td>Reddit</td>\n",
       "    </tr>\n",
       "    <tr>\n",
       "      <th>1</th>\n",
       "      <td>Mitch McConnell Will Lose Control Of The Senat...</td>\n",
       "      <td></td>\n",
       "      <td>https://www.buzzfeednews.com/article/paulmcleo...</td>\n",
       "      <td>2021-01-06</td>\n",
       "      <td>politics</td>\n",
       "      <td>left</td>\n",
       "      <td>Mitch McConnell Will Lose Control Of The Senat...</td>\n",
       "      <td>Reddit</td>\n",
       "    </tr>\n",
       "    <tr>\n",
       "      <th>2</th>\n",
       "      <td>Megathread: House Votes to Impeach President D...</td>\n",
       "      <td>The United States House of Representatives has...</td>\n",
       "      <td>https://www.reddit.com/r/politics/comments/ecm...</td>\n",
       "      <td>2019-12-19</td>\n",
       "      <td>politics</td>\n",
       "      <td>left</td>\n",
       "      <td>Megathread: House Votes to Impeach President D...</td>\n",
       "      <td>Reddit</td>\n",
       "    </tr>\n",
       "    <tr>\n",
       "      <th>3</th>\n",
       "      <td>Trump Threatens to ‘Leave the Country’ if He L...</td>\n",
       "      <td></td>\n",
       "      <td>https://www.thedailybeast.com/trump-threatens-...</td>\n",
       "      <td>2020-10-17</td>\n",
       "      <td>politics</td>\n",
       "      <td>left</td>\n",
       "      <td>Trump Threatens to ‘Leave the Country’ if He L...</td>\n",
       "      <td>Reddit</td>\n",
       "    </tr>\n",
       "    <tr>\n",
       "      <th>4</th>\n",
       "      <td>Demands for Kushner to Resign Over 'Staggering...</td>\n",
       "      <td></td>\n",
       "      <td>https://www.commondreams.org/news/2020/07/31/d...</td>\n",
       "      <td>2020-07-31</td>\n",
       "      <td>politics</td>\n",
       "      <td>left</td>\n",
       "      <td>Demands for Kushner to Resign Over 'Staggering...</td>\n",
       "      <td>Reddit</td>\n",
       "    </tr>\n",
       "  </tbody>\n",
       "</table>\n",
       "</div>"
      ],
      "text/plain": [
       "                                               Title  \\\n",
       "0  Megathread: Joe Biden Projected to Defeat Pres...   \n",
       "1  Mitch McConnell Will Lose Control Of The Senat...   \n",
       "2  Megathread: House Votes to Impeach President D...   \n",
       "3  Trump Threatens to ‘Leave the Country’ if He L...   \n",
       "4  Demands for Kushner to Resign Over 'Staggering...   \n",
       "\n",
       "                                             Content  \\\n",
       "0  Former Vice President Joseph Biden has secured...   \n",
       "1                                                      \n",
       "2  The United States House of Representatives has...   \n",
       "3                                                      \n",
       "4                                                      \n",
       "\n",
       "                                                 URL        Date  Provider  \\\n",
       "0  https://www.reddit.com/r/politics/comments/jpt...  2020-11-07  politics   \n",
       "1  https://www.buzzfeednews.com/article/paulmcleo...  2021-01-06  politics   \n",
       "2  https://www.reddit.com/r/politics/comments/ecm...  2019-12-19  politics   \n",
       "3  https://www.thedailybeast.com/trump-threatens-...  2020-10-17  politics   \n",
       "4  https://www.commondreams.org/news/2020/07/31/d...  2020-07-31  politics   \n",
       "\n",
       "  Political Lean                                           All_Text  Source  \n",
       "0           left  Megathread: Joe Biden Projected to Defeat Pres...  Reddit  \n",
       "1           left  Mitch McConnell Will Lose Control Of The Senat...  Reddit  \n",
       "2           left  Megathread: House Votes to Impeach President D...  Reddit  \n",
       "3           left  Trump Threatens to ‘Leave the Country’ if He L...  Reddit  \n",
       "4           left  Demands for Kushner to Resign Over 'Staggering...  Reddit  "
      ]
     },
     "execution_count": 5,
     "metadata": {},
     "output_type": "execute_result"
    }
   ],
   "source": [
    "post_attributes = []  # create an empty post_attributes list\n",
    "\n",
    "# Define a dictionary that maps subreddit names to political leanings\n",
    "subreddit_political_leanings = {\n",
    "    'politics': 'left',\n",
    "    'democrats': 'left',\n",
    "    'liberal': 'left',\n",
    "    'conservative': 'right',\n",
    "    'libertarian': 'right',\n",
    "    'republican': 'right'\n",
    "    # Add more subreddits and their political leanings as needed\n",
    "}\n",
    "\n",
    "for subreddit_name in subreddit_names:\n",
    "    subreddit = reddit.subreddit(subreddit_name)  # set subreddits\n",
    "    posts = subreddit.top(limit=100)  # set post parameters\n",
    "\n",
    "    for post in posts:  # pull in the following post attributes\n",
    "        post_attributes.append({\n",
    "            'Title': post.title,\n",
    "            'Content': post.selftext,\n",
    "            'URL': post.url,\n",
    "            'Date': datetime.utcfromtimestamp(post.created_utc).strftime('%Y-%m-%d'),\n",
    "            'Provider': subreddit_name,\n",
    "            'Political Lean': subreddit_political_leanings.get(subreddit_name, 'neutral')\n",
    "        })\n",
    "\n",
    "df_red = pd.DataFrame(post_attributes)  # create dataframe\n",
    "\n",
    "df_red['All_Text'] = df_red['Title'] + \" \" + df_red['Content']  # create all_text column\n",
    "df_red['Source'] = 'Reddit'  # create source column\n",
    "\n",
    "# Display dataframe\n",
    "df_red.head(5)"
   ]
  },
  {
   "cell_type": "code",
   "execution_count": 6,
   "id": "8eb7408a",
   "metadata": {},
   "outputs": [
    {
     "data": {
      "text/plain": [
       "(600, 8)"
      ]
     },
     "execution_count": 6,
     "metadata": {},
     "output_type": "execute_result"
    }
   ],
   "source": [
    "df_red.shape"
   ]
  },
  {
   "cell_type": "markdown",
   "id": "2b672be9",
   "metadata": {
    "id": "2b672be9"
   },
   "source": [
    "## Filter dataframe to external URLs"
   ]
  },
  {
   "cell_type": "code",
   "execution_count": 7,
   "id": "b008c733",
   "metadata": {
    "id": "b008c733"
   },
   "outputs": [],
   "source": [
    "filtered_df = df_red[~(df_red['URL'].str.startswith('https://www.reddit.com') | df_red['URL'].str.startswith('https://i.redd') | df_red['URL'].str.startswith('https://v.redd.it'))]"
   ]
  },
  {
   "cell_type": "code",
   "execution_count": 8,
   "id": "e8d0e30b",
   "metadata": {},
   "outputs": [
    {
     "data": {
      "text/html": [
       "<div>\n",
       "<style scoped>\n",
       "    .dataframe tbody tr th:only-of-type {\n",
       "        vertical-align: middle;\n",
       "    }\n",
       "\n",
       "    .dataframe tbody tr th {\n",
       "        vertical-align: top;\n",
       "    }\n",
       "\n",
       "    .dataframe thead th {\n",
       "        text-align: right;\n",
       "    }\n",
       "</style>\n",
       "<table border=\"1\" class=\"dataframe\">\n",
       "  <thead>\n",
       "    <tr style=\"text-align: right;\">\n",
       "      <th></th>\n",
       "      <th>Title</th>\n",
       "      <th>Content</th>\n",
       "      <th>URL</th>\n",
       "      <th>Date</th>\n",
       "      <th>Provider</th>\n",
       "      <th>Political Lean</th>\n",
       "      <th>All_Text</th>\n",
       "      <th>Source</th>\n",
       "    </tr>\n",
       "  </thead>\n",
       "  <tbody>\n",
       "    <tr>\n",
       "      <th>1</th>\n",
       "      <td>Mitch McConnell Will Lose Control Of The Senat...</td>\n",
       "      <td></td>\n",
       "      <td>https://www.buzzfeednews.com/article/paulmcleo...</td>\n",
       "      <td>2021-01-06</td>\n",
       "      <td>politics</td>\n",
       "      <td>left</td>\n",
       "      <td>Mitch McConnell Will Lose Control Of The Senat...</td>\n",
       "      <td>Reddit</td>\n",
       "    </tr>\n",
       "    <tr>\n",
       "      <th>3</th>\n",
       "      <td>Trump Threatens to ‘Leave the Country’ if He L...</td>\n",
       "      <td></td>\n",
       "      <td>https://www.thedailybeast.com/trump-threatens-...</td>\n",
       "      <td>2020-10-17</td>\n",
       "      <td>politics</td>\n",
       "      <td>left</td>\n",
       "      <td>Trump Threatens to ‘Leave the Country’ if He L...</td>\n",
       "      <td>Reddit</td>\n",
       "    </tr>\n",
       "    <tr>\n",
       "      <th>4</th>\n",
       "      <td>Demands for Kushner to Resign Over 'Staggering...</td>\n",
       "      <td></td>\n",
       "      <td>https://www.commondreams.org/news/2020/07/31/d...</td>\n",
       "      <td>2020-07-31</td>\n",
       "      <td>politics</td>\n",
       "      <td>left</td>\n",
       "      <td>Demands for Kushner to Resign Over 'Staggering...</td>\n",
       "      <td>Reddit</td>\n",
       "    </tr>\n",
       "    <tr>\n",
       "      <th>5</th>\n",
       "      <td>Over A million people sign petition calling fo...</td>\n",
       "      <td></td>\n",
       "      <td>https://www.newsweek.com/kkk-petition-terroris...</td>\n",
       "      <td>2020-06-12</td>\n",
       "      <td>politics</td>\n",
       "      <td>left</td>\n",
       "      <td>Over A million people sign petition calling fo...</td>\n",
       "      <td>Reddit</td>\n",
       "    </tr>\n",
       "    <tr>\n",
       "      <th>6</th>\n",
       "      <td>Report: Biden Admin Discovers Trump Had Zero P...</td>\n",
       "      <td></td>\n",
       "      <td>https://talkingpointsmemo.com/news/report-bide...</td>\n",
       "      <td>2021-01-21</td>\n",
       "      <td>politics</td>\n",
       "      <td>left</td>\n",
       "      <td>Report: Biden Admin Discovers Trump Had Zero P...</td>\n",
       "      <td>Reddit</td>\n",
       "    </tr>\n",
       "    <tr>\n",
       "      <th>...</th>\n",
       "      <td>...</td>\n",
       "      <td>...</td>\n",
       "      <td>...</td>\n",
       "      <td>...</td>\n",
       "      <td>...</td>\n",
       "      <td>...</td>\n",
       "      <td>...</td>\n",
       "      <td>...</td>\n",
       "    </tr>\n",
       "    <tr>\n",
       "      <th>496</th>\n",
       "      <td>Woman who won’t get vaccinated due to religiou...</td>\n",
       "      <td></td>\n",
       "      <td>https://www.independent.co.uk/news/world/ameri...</td>\n",
       "      <td>2021-10-08</td>\n",
       "      <td>libertarian</td>\n",
       "      <td>right</td>\n",
       "      <td>Woman who won’t get vaccinated due to religiou...</td>\n",
       "      <td>Reddit</td>\n",
       "    </tr>\n",
       "    <tr>\n",
       "      <th>498</th>\n",
       "      <td>Only Five Republicans vote for bill to decrimi...</td>\n",
       "      <td></td>\n",
       "      <td>https://thehill.com/homenews/house/528806-five...</td>\n",
       "      <td>2020-12-05</td>\n",
       "      <td>libertarian</td>\n",
       "      <td>right</td>\n",
       "      <td>Only Five Republicans vote for bill to decrimi...</td>\n",
       "      <td>Reddit</td>\n",
       "    </tr>\n",
       "    <tr>\n",
       "      <th>557</th>\n",
       "      <td>Accurate</td>\n",
       "      <td></td>\n",
       "      <td>https://jssocial.pw/ppkey/fget/pic8/upload/j4I...</td>\n",
       "      <td>2021-02-24</td>\n",
       "      <td>republican</td>\n",
       "      <td>right</td>\n",
       "      <td>Accurate</td>\n",
       "      <td>Reddit</td>\n",
       "    </tr>\n",
       "    <tr>\n",
       "      <th>596</th>\n",
       "      <td>Thousands Sign Petition Calling For Nancy Pelo...</td>\n",
       "      <td></td>\n",
       "      <td>https://www.dailywire.com/news/thousands-sign-...</td>\n",
       "      <td>2020-09-11</td>\n",
       "      <td>republican</td>\n",
       "      <td>right</td>\n",
       "      <td>Thousands Sign Petition Calling For Nancy Pelo...</td>\n",
       "      <td>Reddit</td>\n",
       "    </tr>\n",
       "    <tr>\n",
       "      <th>599</th>\n",
       "      <td>Truth</td>\n",
       "      <td></td>\n",
       "      <td>https://i.imgtc.ws/5pNI5Xk.jpg</td>\n",
       "      <td>2019-06-22</td>\n",
       "      <td>republican</td>\n",
       "      <td>right</td>\n",
       "      <td>Truth</td>\n",
       "      <td>Reddit</td>\n",
       "    </tr>\n",
       "  </tbody>\n",
       "</table>\n",
       "<p>348 rows × 8 columns</p>\n",
       "</div>"
      ],
      "text/plain": [
       "                                                 Title Content  \\\n",
       "1    Mitch McConnell Will Lose Control Of The Senat...           \n",
       "3    Trump Threatens to ‘Leave the Country’ if He L...           \n",
       "4    Demands for Kushner to Resign Over 'Staggering...           \n",
       "5    Over A million people sign petition calling fo...           \n",
       "6    Report: Biden Admin Discovers Trump Had Zero P...           \n",
       "..                                                 ...     ...   \n",
       "496  Woman who won’t get vaccinated due to religiou...           \n",
       "498  Only Five Republicans vote for bill to decrimi...           \n",
       "557                                           Accurate           \n",
       "596  Thousands Sign Petition Calling For Nancy Pelo...           \n",
       "599                                              Truth           \n",
       "\n",
       "                                                   URL        Date  \\\n",
       "1    https://www.buzzfeednews.com/article/paulmcleo...  2021-01-06   \n",
       "3    https://www.thedailybeast.com/trump-threatens-...  2020-10-17   \n",
       "4    https://www.commondreams.org/news/2020/07/31/d...  2020-07-31   \n",
       "5    https://www.newsweek.com/kkk-petition-terroris...  2020-06-12   \n",
       "6    https://talkingpointsmemo.com/news/report-bide...  2021-01-21   \n",
       "..                                                 ...         ...   \n",
       "496  https://www.independent.co.uk/news/world/ameri...  2021-10-08   \n",
       "498  https://thehill.com/homenews/house/528806-five...  2020-12-05   \n",
       "557  https://jssocial.pw/ppkey/fget/pic8/upload/j4I...  2021-02-24   \n",
       "596  https://www.dailywire.com/news/thousands-sign-...  2020-09-11   \n",
       "599                     https://i.imgtc.ws/5pNI5Xk.jpg  2019-06-22   \n",
       "\n",
       "        Provider Political Lean  \\\n",
       "1       politics           left   \n",
       "3       politics           left   \n",
       "4       politics           left   \n",
       "5       politics           left   \n",
       "6       politics           left   \n",
       "..           ...            ...   \n",
       "496  libertarian          right   \n",
       "498  libertarian          right   \n",
       "557   republican          right   \n",
       "596   republican          right   \n",
       "599   republican          right   \n",
       "\n",
       "                                              All_Text  Source  \n",
       "1    Mitch McConnell Will Lose Control Of The Senat...  Reddit  \n",
       "3    Trump Threatens to ‘Leave the Country’ if He L...  Reddit  \n",
       "4    Demands for Kushner to Resign Over 'Staggering...  Reddit  \n",
       "5    Over A million people sign petition calling fo...  Reddit  \n",
       "6    Report: Biden Admin Discovers Trump Had Zero P...  Reddit  \n",
       "..                                                 ...     ...  \n",
       "496  Woman who won’t get vaccinated due to religiou...  Reddit  \n",
       "498  Only Five Republicans vote for bill to decrimi...  Reddit  \n",
       "557                                          Accurate   Reddit  \n",
       "596  Thousands Sign Petition Calling For Nancy Pelo...  Reddit  \n",
       "599                                             Truth   Reddit  \n",
       "\n",
       "[348 rows x 8 columns]"
      ]
     },
     "execution_count": 8,
     "metadata": {},
     "output_type": "execute_result"
    }
   ],
   "source": [
    "filtered_df"
   ]
  },
  {
   "cell_type": "code",
   "execution_count": 9,
   "id": "9f213486",
   "metadata": {
    "id": "9f213486"
   },
   "outputs": [
    {
     "data": {
      "text/plain": [
       "1      https://www.buzzfeednews.com/article/paulmcleo...\n",
       "3      https://www.thedailybeast.com/trump-threatens-...\n",
       "4      https://www.commondreams.org/news/2020/07/31/d...\n",
       "5      https://www.newsweek.com/kkk-petition-terroris...\n",
       "6      https://talkingpointsmemo.com/news/report-bide...\n",
       "                             ...                        \n",
       "496    https://www.independent.co.uk/news/world/ameri...\n",
       "498    https://thehill.com/homenews/house/528806-five...\n",
       "557    https://jssocial.pw/ppkey/fget/pic8/upload/j4I...\n",
       "596    https://www.dailywire.com/news/thousands-sign-...\n",
       "599                       https://i.imgtc.ws/5pNI5Xk.jpg\n",
       "Name: URL, Length: 348, dtype: object"
      ]
     },
     "execution_count": 9,
     "metadata": {},
     "output_type": "execute_result"
    }
   ],
   "source": [
    "filtered_df['URL']"
   ]
  }
 ],
 "metadata": {
  "colab": {
   "provenance": []
  },
  "kernelspec": {
   "display_name": "Python 3 (ipykernel)",
   "language": "python",
   "name": "python3"
  },
  "language_info": {
   "codemirror_mode": {
    "name": "ipython",
    "version": 3
   },
   "file_extension": ".py",
   "mimetype": "text/x-python",
   "name": "python",
   "nbconvert_exporter": "python",
   "pygments_lexer": "ipython3",
   "version": "3.11.4"
  }
 },
 "nbformat": 4,
 "nbformat_minor": 5
}
