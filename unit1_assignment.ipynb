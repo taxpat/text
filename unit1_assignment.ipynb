{
 "cells": [
  {
   "cell_type": "markdown",
   "metadata": {},
   "source": [
    "# Unit 1 Assignment"
   ]
  },
  {
   "cell_type": "markdown",
   "metadata": {},
   "source": [
    "I have several ideas for my final project, each of which is made to enhance the research experience for tax accounting researchers. "
   ]
  },
  {
   "cell_type": "markdown",
   "metadata": {},
   "source": [
    "### Idea I\n",
    "#### Academic paper summarizer and section extractor. \n",
    "\n",
    "I would like to create tool that can, with a collection of academic papers in .pdf format can pull out the title, authors, abstract, and then through the openAI API summarize the entire paper. I would then like all of this information to be organized into a document that I can then use text to speech tools to listen the new output. I am a slow reader, but want to be an incredible PhD student and researcher. I believe that a tool like to this may empower me to digest and understand a lot more research to inform my own work. "
   ]
  },
  {
   "cell_type": "markdown",
   "metadata": {},
   "source": [
    "### Idea II\n",
    "#### Sentiment analysis of disclosures found within the annual report of a company. \n",
    "\n",
    "I would like to build a tool that uses the SEC API to collect 10Ks for specified companies, reduces them to specific disclosures and then performs a sentiment anaysis of those disclosures. Researchers would be able to use this as a powerful input for their research. This analysis could lead to proxy variables for attitudes about disclsure requirements, tax code changes, as well as firm attitude towards ongoing litigation with which it is involved. "
   ]
  },
  {
   "cell_type": "markdown",
   "metadata": {},
   "source": [
    "### End of Ideas\n",
    "\n",
    "While I have read many research papers, I have need read all that utilize NLP in its methods. Therefore, I am still not sure how NLP can be fully leveraged in this space. This provides me with an opportunity to be a leader in its use in the field over the coming years. I am attending a conference this next week where I will have the opportunity to pick the brains of some of the leading researchers in this field. There, I will learn more about which data will be the most helpful to analize and the applications for such data. Until then, the two data sets I will be preparing for this assignment are just a starting point. "
   ]
  },
  {
   "cell_type": "markdown",
   "metadata": {},
   "source": []
  }
 ],
 "metadata": {
  "language_info": {
   "name": "python"
  },
  "orig_nbformat": 4
 },
 "nbformat": 4,
 "nbformat_minor": 2
}
