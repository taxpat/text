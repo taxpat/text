{
  "cells": [
    {
      "cell_type": "markdown",
      "metadata": {
        "id": "noMTyLB7_OfS"
      },
      "source": [
        "# **In-Class Activity Topic 5** - Supervised Document Classification\n",
        "## *DATA 5420/6420*\n",
        "## Name: Patrick Neyland\n",
        "\n",
        "In this in-class exercise we will train several supervised classifiers to predict the genre label on the Brown corpus. We will also utilize grid searching to help determine optimal parameters for a final model. Once we've decided on a final model, we will apply it to a toy corpus of short texts and predict their genre.\n",
        "\n",
        "We begin as always, by loading in our dependencies:"
      ]
    },
    {
      "cell_type": "code",
      "execution_count": 36,
      "metadata": {
        "id": "AFWhyRaWccuv"
      },
      "outputs": [
        {
          "name": "stderr",
          "output_type": "stream",
          "text": [
            "[nltk_data] Downloading package wordnet to\n",
            "[nltk_data]     C:\\Users\\Patri\\AppData\\Roaming\\nltk_data...\n",
            "[nltk_data]   Package wordnet is already up-to-date!\n",
            "[nltk_data] Downloading package stopwords to\n",
            "[nltk_data]     C:\\Users\\Patri\\AppData\\Roaming\\nltk_data...\n",
            "[nltk_data]   Package stopwords is already up-to-date!\n",
            "[nltk_data] Downloading package punkt to\n",
            "[nltk_data]     C:\\Users\\Patri\\AppData\\Roaming\\nltk_data...\n",
            "[nltk_data]   Package punkt is already up-to-date!\n"
          ]
        }
      ],
      "source": [
        "# Import necessary libraries\n",
        "import nltk\n",
        "import re\n",
        "from nltk.corpus import brown\n",
        "from nltk.stem import WordNetLemmatizer\n",
        "from nltk.corpus import stopwords\n",
        "from sklearn.model_selection import train_test_split\n",
        "from sklearn.feature_extraction.text import TfidfVectorizer\n",
        "import pandas as pd\n",
        "\n",
        "from sklearn.naive_bayes import MultinomialNB\n",
        "from sklearn.svm import LinearSVC\n",
        "from sklearn.ensemble import RandomForestClassifier\n",
        "from sklearn.metrics import accuracy_score\n",
        "\n",
        "from sklearn.metrics import confusion_matrix, classification_report\n",
        "from sklearn.model_selection import GridSearchCV\n",
        "from sklearn.model_selection import cross_val_score\n",
        "\n",
        "import seaborn as sns\n",
        "import matplotlib.pyplot as plt\n",
        "from sklearn.metrics import confusion_matrix\n",
        "\n",
        "# Download the nltk features\n",
        "nltk.download('wordnet')\n",
        "nltk.download('stopwords')\n",
        "nltk.download('punkt')\n",
        "\n",
        "# ignore warnings\n",
        "import warnings\n",
        "warnings.filterwarnings('ignore')\n"
      ]
    },
    {
      "cell_type": "code",
      "execution_count": 2,
      "metadata": {
        "id": "nsocdwQRcnYW"
      },
      "outputs": [
        {
          "data": {
            "text/html": [
              "<div>\n",
              "<style scoped>\n",
              "    .dataframe tbody tr th:only-of-type {\n",
              "        vertical-align: middle;\n",
              "    }\n",
              "\n",
              "    .dataframe tbody tr th {\n",
              "        vertical-align: top;\n",
              "    }\n",
              "\n",
              "    .dataframe thead th {\n",
              "        text-align: right;\n",
              "    }\n",
              "</style>\n",
              "<table border=\"1\" class=\"dataframe\">\n",
              "  <thead>\n",
              "    <tr style=\"text-align: right;\">\n",
              "      <th></th>\n",
              "      <th>doc_para_id</th>\n",
              "      <th>label</th>\n",
              "      <th>combined_tokenized_text</th>\n",
              "    </tr>\n",
              "  </thead>\n",
              "  <tbody>\n",
              "    <tr>\n",
              "      <th>0</th>\n",
              "      <td>ca01_0</td>\n",
              "      <td>news</td>\n",
              "      <td>The Fulton County Grand Jury said Friday an in...</td>\n",
              "    </tr>\n",
              "    <tr>\n",
              "      <th>1</th>\n",
              "      <td>ca01_1</td>\n",
              "      <td>news</td>\n",
              "      <td>The jury further said in term-end presentments...</td>\n",
              "    </tr>\n",
              "    <tr>\n",
              "      <th>2</th>\n",
              "      <td>ca01_10</td>\n",
              "      <td>news</td>\n",
              "      <td>It urged that the next Legislature `` provide ...</td>\n",
              "    </tr>\n",
              "    <tr>\n",
              "      <th>3</th>\n",
              "      <td>ca01_11</td>\n",
              "      <td>news</td>\n",
              "      <td>The grand jury took a swipe at the State Welfa...</td>\n",
              "    </tr>\n",
              "    <tr>\n",
              "      <th>4</th>\n",
              "      <td>ca01_12</td>\n",
              "      <td>news</td>\n",
              "      <td>`` This is one of the major items in the Fulto...</td>\n",
              "    </tr>\n",
              "  </tbody>\n",
              "</table>\n",
              "</div>"
            ],
            "text/plain": [
              "  doc_para_id label                            combined_tokenized_text\n",
              "0      ca01_0  news  The Fulton County Grand Jury said Friday an in...\n",
              "1      ca01_1  news  The jury further said in term-end presentments...\n",
              "2     ca01_10  news  It urged that the next Legislature `` provide ...\n",
              "3     ca01_11  news  The grand jury took a swipe at the State Welfa...\n",
              "4     ca01_12  news  `` This is one of the major items in the Fulto..."
            ]
          },
          "execution_count": 2,
          "metadata": {},
          "output_type": "execute_result"
        }
      ],
      "source": [
        "df = pd.read_csv('combined_paragraphs_brown.csv')\n",
        "df.head()"
      ]
    },
    {
      "cell_type": "code",
      "execution_count": 3,
      "metadata": {},
      "outputs": [
        {
          "data": {
            "text/plain": [
              "15667"
            ]
          },
          "execution_count": 3,
          "metadata": {},
          "output_type": "execute_result"
        }
      ],
      "source": [
        "len(df)"
      ]
    },
    {
      "cell_type": "markdown",
      "metadata": {
        "id": "P0S1ZHBw_1pm"
      },
      "source": [
        "## Peform any necessary cleaning and text normalization"
      ]
    },
    {
      "cell_type": "code",
      "execution_count": 4,
      "metadata": {
        "id": "dipMFCwSdn7i"
      },
      "outputs": [],
      "source": [
        "# Text normalization function\n",
        "def normalize_text(text):\n",
        "    text = text.lower()\n",
        "    text = re.sub(r'[^a-zA-Z\\s]', '', text)\n",
        "    words = nltk.word_tokenize(text)\n",
        "    words = [word for word in words if word not in stopwords.words('english')]\n",
        "    lemmatizer = WordNetLemmatizer()\n",
        "    words = [lemmatizer.lemmatize(word) for word in words]\n",
        "    return ' '.join(words)\n",
        "\n",
        "# Apply text normalization to the 'text' column\n",
        "df['clean_text'] = df['combined_tokenized_text'].apply(normalize_text)"
      ]
    },
    {
      "cell_type": "code",
      "execution_count": 5,
      "metadata": {
        "id": "zI0Od4-Cu5d9"
      },
      "outputs": [
        {
          "data": {
            "text/html": [
              "<div>\n",
              "<style scoped>\n",
              "    .dataframe tbody tr th:only-of-type {\n",
              "        vertical-align: middle;\n",
              "    }\n",
              "\n",
              "    .dataframe tbody tr th {\n",
              "        vertical-align: top;\n",
              "    }\n",
              "\n",
              "    .dataframe thead th {\n",
              "        text-align: right;\n",
              "    }\n",
              "</style>\n",
              "<table border=\"1\" class=\"dataframe\">\n",
              "  <thead>\n",
              "    <tr style=\"text-align: right;\">\n",
              "      <th></th>\n",
              "      <th>Unnamed: 0</th>\n",
              "      <th>doc_para_id</th>\n",
              "      <th>label</th>\n",
              "      <th>combined_tokenized_text</th>\n",
              "      <th>clean_text</th>\n",
              "    </tr>\n",
              "  </thead>\n",
              "  <tbody>\n",
              "    <tr>\n",
              "      <th>0</th>\n",
              "      <td>0</td>\n",
              "      <td>ca01_0</td>\n",
              "      <td>news</td>\n",
              "      <td>The Fulton County Grand Jury said Friday an in...</td>\n",
              "      <td>fulton county grand jury said friday investiga...</td>\n",
              "    </tr>\n",
              "    <tr>\n",
              "      <th>1</th>\n",
              "      <td>1</td>\n",
              "      <td>ca01_1</td>\n",
              "      <td>news</td>\n",
              "      <td>The jury further said in term-end presentments...</td>\n",
              "      <td>jury said termend presentment city executive c...</td>\n",
              "    </tr>\n",
              "    <tr>\n",
              "      <th>2</th>\n",
              "      <td>2</td>\n",
              "      <td>ca01_10</td>\n",
              "      <td>news</td>\n",
              "      <td>It urged that the next Legislature `` provide ...</td>\n",
              "      <td>urged next legislature provide enabling fund r...</td>\n",
              "    </tr>\n",
              "    <tr>\n",
              "      <th>3</th>\n",
              "      <td>3</td>\n",
              "      <td>ca01_11</td>\n",
              "      <td>news</td>\n",
              "      <td>The grand jury took a swipe at the State Welfa...</td>\n",
              "      <td>grand jury took swipe state welfare department...</td>\n",
              "    </tr>\n",
              "    <tr>\n",
              "      <th>4</th>\n",
              "      <td>4</td>\n",
              "      <td>ca01_12</td>\n",
              "      <td>news</td>\n",
              "      <td>`` This is one of the major items in the Fulto...</td>\n",
              "      <td>one major item fulton county general assistanc...</td>\n",
              "    </tr>\n",
              "  </tbody>\n",
              "</table>\n",
              "</div>"
            ],
            "text/plain": [
              "   Unnamed: 0 doc_para_id label  \\\n",
              "0           0      ca01_0  news   \n",
              "1           1      ca01_1  news   \n",
              "2           2     ca01_10  news   \n",
              "3           3     ca01_11  news   \n",
              "4           4     ca01_12  news   \n",
              "\n",
              "                             combined_tokenized_text  \\\n",
              "0  The Fulton County Grand Jury said Friday an in...   \n",
              "1  The jury further said in term-end presentments...   \n",
              "2  It urged that the next Legislature `` provide ...   \n",
              "3  The grand jury took a swipe at the State Welfa...   \n",
              "4  `` This is one of the major items in the Fulto...   \n",
              "\n",
              "                                          clean_text  \n",
              "0  fulton county grand jury said friday investiga...  \n",
              "1  jury said termend presentment city executive c...  \n",
              "2  urged next legislature provide enabling fund r...  \n",
              "3  grand jury took swipe state welfare department...  \n",
              "4  one major item fulton county general assistanc...  "
            ]
          },
          "execution_count": 5,
          "metadata": {},
          "output_type": "execute_result"
        }
      ],
      "source": [
        "#df.to_csv('Cleaned_Brown.csv')\n",
        "df = pd.read_csv('Cleaned_Brown.csv')\n",
        "df.head()"
      ]
    },
    {
      "cell_type": "code",
      "execution_count": 10,
      "metadata": {},
      "outputs": [
        {
          "name": "stdout",
          "output_type": "stream",
          "text": [
            "<class 'pandas.core.frame.DataFrame'>\n",
            "RangeIndex: 15667 entries, 0 to 15666\n",
            "Data columns (total 5 columns):\n",
            " #   Column                   Non-Null Count  Dtype \n",
            "---  ------                   --------------  ----- \n",
            " 0   Unnamed: 0               15667 non-null  int64 \n",
            " 1   doc_para_id              15667 non-null  object\n",
            " 2   label                    15667 non-null  object\n",
            " 3   combined_tokenized_text  15667 non-null  object\n",
            " 4   clean_text               15622 non-null  object\n",
            "dtypes: int64(1), object(4)\n",
            "memory usage: 612.1+ KB\n"
          ]
        }
      ],
      "source": [
        "df.info()"
      ]
    },
    {
      "cell_type": "code",
      "execution_count": 11,
      "metadata": {},
      "outputs": [],
      "source": [
        "df = df.dropna()"
      ]
    },
    {
      "cell_type": "markdown",
      "metadata": {
        "id": "FKSop5AnAAra"
      },
      "source": [
        "## Let's examine the breakdown of the genre labels...\n",
        "\n",
        "What are the most common genres in this dataset, which are the least? What impact might this have on the predictive accuracy of the models we train?"
      ]
    },
    {
      "cell_type": "code",
      "execution_count": 6,
      "metadata": {
        "id": "_ct2lyff4J6Y"
      },
      "outputs": [
        {
          "data": {
            "text/plain": [
              "news               2234\n",
              "learned            1418\n",
              "belles_lettres     1405\n",
              "adventure          1387\n",
              "romance            1253\n",
              "lore               1203\n",
              "mystery            1164\n",
              "hobbies            1119\n",
              "fiction            1043\n",
              "editorial          1003\n",
              "government          851\n",
              "reviews             629\n",
              "religion            369\n",
              "science_fiction     335\n",
              "humor               254\n",
              "Name: label, dtype: int64"
            ]
          },
          "execution_count": 6,
          "metadata": {},
          "output_type": "execute_result"
        }
      ],
      "source": [
        "# examine labels\n",
        "df['label'].value_counts()"
      ]
    },
    {
      "cell_type": "markdown",
      "metadata": {
        "id": "AVrDW70IAPRJ"
      },
      "source": [
        "The impact of having uneven class distribution is that we may have differential performance among our various genre labels. "
      ]
    },
    {
      "cell_type": "markdown",
      "metadata": {
        "id": "DLSVlEGvAQUM"
      },
      "source": [
        "## Split the data into a training and test set"
      ]
    },
    {
      "cell_type": "code",
      "execution_count": 12,
      "metadata": {
        "id": "yCTO59xvuJOb"
      },
      "outputs": [],
      "source": [
        "# Split data into text and labels\n",
        "texts = df['clean_text'].tolist()\n",
        "labels = df['label'].tolist()\n",
        "\n",
        "# Split data into training and testing sets\n",
        "X_train, X_test, y_train, y_test = train_test_split(texts, labels, test_size=0.2, random_state=42)"
      ]
    },
    {
      "cell_type": "markdown",
      "metadata": {
        "id": "B2F_3cnTAW4U"
      },
      "source": [
        "## Peform feature engineering by vectorizing the text with TF-IDF\n",
        "\n",
        "Let's set `min_df` and `max_df` to limit the number of features, then we'll check to see how many features we have in our dataset:"
      ]
    },
    {
      "cell_type": "code",
      "execution_count": 25,
      "metadata": {
        "id": "7Oa_zqIjucZ2"
      },
      "outputs": [
        {
          "data": {
            "text/plain": [
              "(12497, 36120)"
            ]
          },
          "execution_count": 25,
          "metadata": {},
          "output_type": "execute_result"
        }
      ],
      "source": [
        "# Create a TF-IDF vectorizer\n",
        "vectorizer = TfidfVectorizer(stop_words='english', min_df = 1, max_df = 0.80)\n",
        "X_train_vec = vectorizer.fit_transform(X_train) # will determine the number of features\n",
        "X_test_vec = vectorizer.transform(X_test) # will use the same number of features as X_train_vec\n",
        "\n",
        "num_features = X_train_vec.shape\n",
        "num_features"
      ]
    },
    {
      "cell_type": "code",
      "execution_count": 26,
      "metadata": {},
      "outputs": [
        {
          "data": {
            "text/plain": [
              "(3125, 36120)"
            ]
          },
          "execution_count": 26,
          "metadata": {},
          "output_type": "execute_result"
        }
      ],
      "source": [
        "X_test_vec.shape"
      ]
    },
    {
      "cell_type": "markdown",
      "metadata": {
        "id": "210f5Qa4A0a_"
      },
      "source": [
        "## Now let's train a few supervised classifiers using our training set"
      ]
    },
    {
      "cell_type": "code",
      "execution_count": 29,
      "metadata": {
        "id": "CGcpmhDAds1f"
      },
      "outputs": [
        {
          "name": "stdout",
          "output_type": "stream",
          "text": [
            "Naive Bayes Accuracy: 0.4746\n"
          ]
        },
        {
          "name": "stderr",
          "output_type": "stream",
          "text": [
            "c:\\Users\\Patri\\anaconda3\\Lib\\site-packages\\sklearn\\svm\\_classes.py:32: FutureWarning: The default value of `dual` will change from `True` to `'auto'` in 1.5. Set the value of `dual` explicitly to suppress the warning.\n",
            "  warnings.warn(\n"
          ]
        },
        {
          "name": "stdout",
          "output_type": "stream",
          "text": [
            "Linear SVM Accuracy: 0.6842\n",
            "Random Forest Accuracy: 0.4861\n"
          ]
        }
      ],
      "source": [
        "# Define and train models\n",
        "models = {\n",
        "        \"Naive Bayes\": MultinomialNB(),\n",
        "        \"Linear SVM\": LinearSVC(),\n",
        "        \"Random Forest\": RandomForestClassifier(random_state=42)\n",
        "}\n",
        "\n",
        "for name, model in models.items():\n",
        "    model.fit(X_train_vec, y_train)\n",
        "    y_pred = model.predict(X_test_vec)\n",
        "    accuracy = accuracy_score(y_test, y_pred)\n",
        "    print(f\"{name} Accuracy: {accuracy:.4f}\")"
      ]
    },
    {
      "cell_type": "markdown",
      "metadata": {
        "id": "6xRxUIavA90i"
      },
      "source": [
        "## We'll drop out random forests since it's slow and not performing well, let's do some cross-validation on our remaining models..."
      ]
    },
    {
      "cell_type": "code",
      "execution_count": 32,
      "metadata": {
        "id": "6UDk7tk8uf77"
      },
      "outputs": [
        {
          "name": "stdout",
          "output_type": "stream",
          "text": [
            "Naive Bayes Cross-Validation Mean Accuracy: 0.4688\n"
          ]
        },
        {
          "name": "stderr",
          "output_type": "stream",
          "text": [
            "c:\\Users\\Patri\\anaconda3\\Lib\\site-packages\\sklearn\\svm\\_classes.py:32: FutureWarning: The default value of `dual` will change from `True` to `'auto'` in 1.5. Set the value of `dual` explicitly to suppress the warning.\n",
            "  warnings.warn(\n",
            "c:\\Users\\Patri\\anaconda3\\Lib\\site-packages\\sklearn\\svm\\_classes.py:32: FutureWarning: The default value of `dual` will change from `True` to `'auto'` in 1.5. Set the value of `dual` explicitly to suppress the warning.\n",
            "  warnings.warn(\n",
            "c:\\Users\\Patri\\anaconda3\\Lib\\site-packages\\sklearn\\svm\\_classes.py:32: FutureWarning: The default value of `dual` will change from `True` to `'auto'` in 1.5. Set the value of `dual` explicitly to suppress the warning.\n",
            "  warnings.warn(\n",
            "c:\\Users\\Patri\\anaconda3\\Lib\\site-packages\\sklearn\\svm\\_classes.py:32: FutureWarning: The default value of `dual` will change from `True` to `'auto'` in 1.5. Set the value of `dual` explicitly to suppress the warning.\n",
            "  warnings.warn(\n",
            "c:\\Users\\Patri\\anaconda3\\Lib\\site-packages\\sklearn\\svm\\_classes.py:32: FutureWarning: The default value of `dual` will change from `True` to `'auto'` in 1.5. Set the value of `dual` explicitly to suppress the warning.\n",
            "  warnings.warn(\n"
          ]
        },
        {
          "name": "stdout",
          "output_type": "stream",
          "text": [
            "Linear SVM Cross-Validation Mean Accuracy: 0.6868\n"
          ]
        }
      ],
      "source": [
        "models = {\n",
        "    'Naive Bayes': MultinomialNB(),\n",
        "    'Linear SVM': LinearSVC()\n",
        "}\n",
        "\n",
        "# Perform cross-validation for each model\n",
        "for name, model in models.items():\n",
        "    scores = cross_val_score(model, X_train_vec, y_train, cv = 5 )\n",
        "    print(f\"{name} Cross-Validation Mean Accuracy: {scores.mean():.4f}\")"
      ]
    },
    {
      "cell_type": "markdown",
      "metadata": {
        "id": "2GkW4tZABFTU"
      },
      "source": [
        "**Is there a significant difference in the CV accuracy for the models vs the training accuracy?**"
      ]
    },
    {
      "cell_type": "markdown",
      "metadata": {
        "id": "Z-AyzozNBLtf"
      },
      "source": [
        "No. They are quite similar. Which is great!"
      ]
    },
    {
      "cell_type": "markdown",
      "metadata": {
        "id": "RfXHfFslBNkF"
      },
      "source": [
        "## Finally, let's select the best performing model and perform a CV grid search to select optimal parameters"
      ]
    },
    {
      "cell_type": "code",
      "execution_count": 37,
      "metadata": {
        "id": "7Fu9T7Fxuix4"
      },
      "outputs": [
        {
          "name": "stdout",
          "output_type": "stream",
          "text": [
            "Fitting 5 folds for each of 30 candidates, totalling 150 fits\n",
            "[CV 1/5; 1/30] START C=0.001, loss=hinge, max_iter=1000.........................\n",
            "[CV 1/5; 1/30] END C=0.001, loss=hinge, max_iter=1000;, score=0.631 total time=   0.0s\n",
            "[CV 2/5; 1/30] START C=0.001, loss=hinge, max_iter=1000.........................\n",
            "[CV 2/5; 1/30] END C=0.001, loss=hinge, max_iter=1000;, score=0.645 total time=   0.0s\n",
            "[CV 3/5; 1/30] START C=0.001, loss=hinge, max_iter=1000.........................\n",
            "[CV 3/5; 1/30] END C=0.001, loss=hinge, max_iter=1000;, score=0.642 total time=   0.0s\n",
            "[CV 4/5; 1/30] START C=0.001, loss=hinge, max_iter=1000.........................\n",
            "[CV 4/5; 1/30] END C=0.001, loss=hinge, max_iter=1000;, score=0.650 total time=   0.0s\n",
            "[CV 5/5; 1/30] START C=0.001, loss=hinge, max_iter=1000.........................\n",
            "[CV 5/5; 1/30] END C=0.001, loss=hinge, max_iter=1000;, score=0.635 total time=   0.0s\n",
            "[CV 1/5; 2/30] START C=0.001, loss=hinge, max_iter=5000.........................\n",
            "[CV 1/5; 2/30] END C=0.001, loss=hinge, max_iter=5000;, score=0.631 total time=   0.0s\n",
            "[CV 2/5; 2/30] START C=0.001, loss=hinge, max_iter=5000.........................\n",
            "[CV 2/5; 2/30] END C=0.001, loss=hinge, max_iter=5000;, score=0.644 total time=   0.0s\n",
            "[CV 3/5; 2/30] START C=0.001, loss=hinge, max_iter=5000.........................\n",
            "[CV 3/5; 2/30] END C=0.001, loss=hinge, max_iter=5000;, score=0.643 total time=   0.0s\n",
            "[CV 4/5; 2/30] START C=0.001, loss=hinge, max_iter=5000.........................\n",
            "[CV 4/5; 2/30] END C=0.001, loss=hinge, max_iter=5000;, score=0.651 total time=   0.0s\n",
            "[CV 5/5; 2/30] START C=0.001, loss=hinge, max_iter=5000.........................\n",
            "[CV 5/5; 2/30] END C=0.001, loss=hinge, max_iter=5000;, score=0.634 total time=   0.0s\n",
            "[CV 1/5; 3/30] START C=0.001, loss=hinge, max_iter=10000........................\n",
            "[CV 1/5; 3/30] END C=0.001, loss=hinge, max_iter=10000;, score=0.634 total time=   0.0s\n",
            "[CV 2/5; 3/30] START C=0.001, loss=hinge, max_iter=10000........................\n",
            "[CV 2/5; 3/30] END C=0.001, loss=hinge, max_iter=10000;, score=0.644 total time=   0.0s\n",
            "[CV 3/5; 3/30] START C=0.001, loss=hinge, max_iter=10000........................\n",
            "[CV 3/5; 3/30] END C=0.001, loss=hinge, max_iter=10000;, score=0.643 total time=   0.0s\n",
            "[CV 4/5; 3/30] START C=0.001, loss=hinge, max_iter=10000........................\n",
            "[CV 4/5; 3/30] END C=0.001, loss=hinge, max_iter=10000;, score=0.650 total time=   0.1s\n",
            "[CV 5/5; 3/30] START C=0.001, loss=hinge, max_iter=10000........................\n",
            "[CV 5/5; 3/30] END C=0.001, loss=hinge, max_iter=10000;, score=0.635 total time=   0.0s\n",
            "[CV 1/5; 4/30] START C=0.001, loss=squared_hinge, max_iter=1000.................\n",
            "[CV 1/5; 4/30] END C=0.001, loss=squared_hinge, max_iter=1000;, score=0.145 total time=   0.0s\n",
            "[CV 2/5; 4/30] START C=0.001, loss=squared_hinge, max_iter=1000.................\n",
            "[CV 2/5; 4/30] END C=0.001, loss=squared_hinge, max_iter=1000;, score=0.146 total time=   0.0s\n",
            "[CV 3/5; 4/30] START C=0.001, loss=squared_hinge, max_iter=1000.................\n",
            "[CV 3/5; 4/30] END C=0.001, loss=squared_hinge, max_iter=1000;, score=0.146 total time=   0.0s\n",
            "[CV 4/5; 4/30] START C=0.001, loss=squared_hinge, max_iter=1000.................\n",
            "[CV 4/5; 4/30] END C=0.001, loss=squared_hinge, max_iter=1000;, score=0.146 total time=   0.0s\n",
            "[CV 5/5; 4/30] START C=0.001, loss=squared_hinge, max_iter=1000.................\n",
            "[CV 5/5; 4/30] END C=0.001, loss=squared_hinge, max_iter=1000;, score=0.146 total time=   0.0s\n",
            "[CV 1/5; 5/30] START C=0.001, loss=squared_hinge, max_iter=5000.................\n",
            "[CV 1/5; 5/30] END C=0.001, loss=squared_hinge, max_iter=5000;, score=0.145 total time=   0.0s\n",
            "[CV 2/5; 5/30] START C=0.001, loss=squared_hinge, max_iter=5000.................\n",
            "[CV 2/5; 5/30] END C=0.001, loss=squared_hinge, max_iter=5000;, score=0.146 total time=   0.0s\n",
            "[CV 3/5; 5/30] START C=0.001, loss=squared_hinge, max_iter=5000.................\n",
            "[CV 3/5; 5/30] END C=0.001, loss=squared_hinge, max_iter=5000;, score=0.146 total time=   0.0s\n",
            "[CV 4/5; 5/30] START C=0.001, loss=squared_hinge, max_iter=5000.................\n",
            "[CV 4/5; 5/30] END C=0.001, loss=squared_hinge, max_iter=5000;, score=0.146 total time=   0.0s\n",
            "[CV 5/5; 5/30] START C=0.001, loss=squared_hinge, max_iter=5000.................\n",
            "[CV 5/5; 5/30] END C=0.001, loss=squared_hinge, max_iter=5000;, score=0.146 total time=   0.0s\n",
            "[CV 1/5; 6/30] START C=0.001, loss=squared_hinge, max_iter=10000................\n",
            "[CV 1/5; 6/30] END C=0.001, loss=squared_hinge, max_iter=10000;, score=0.145 total time=   0.0s\n",
            "[CV 2/5; 6/30] START C=0.001, loss=squared_hinge, max_iter=10000................\n",
            "[CV 2/5; 6/30] END C=0.001, loss=squared_hinge, max_iter=10000;, score=0.146 total time=   0.0s\n",
            "[CV 3/5; 6/30] START C=0.001, loss=squared_hinge, max_iter=10000................\n",
            "[CV 3/5; 6/30] END C=0.001, loss=squared_hinge, max_iter=10000;, score=0.146 total time=   0.0s\n",
            "[CV 4/5; 6/30] START C=0.001, loss=squared_hinge, max_iter=10000................\n",
            "[CV 4/5; 6/30] END C=0.001, loss=squared_hinge, max_iter=10000;, score=0.146 total time=   0.0s\n",
            "[CV 5/5; 6/30] START C=0.001, loss=squared_hinge, max_iter=10000................\n",
            "[CV 5/5; 6/30] END C=0.001, loss=squared_hinge, max_iter=10000;, score=0.146 total time=   0.0s\n",
            "[CV 1/5; 7/30] START C=0.01, loss=hinge, max_iter=1000..........................\n",
            "[CV 1/5; 7/30] END C=0.01, loss=hinge, max_iter=1000;, score=0.650 total time=   0.1s\n",
            "[CV 2/5; 7/30] START C=0.01, loss=hinge, max_iter=1000..........................\n",
            "[CV 2/5; 7/30] END C=0.01, loss=hinge, max_iter=1000;, score=0.663 total time=   0.1s\n",
            "[CV 3/5; 7/30] START C=0.01, loss=hinge, max_iter=1000..........................\n",
            "[CV 3/5; 7/30] END C=0.01, loss=hinge, max_iter=1000;, score=0.655 total time=   0.2s\n",
            "[CV 4/5; 7/30] START C=0.01, loss=hinge, max_iter=1000..........................\n",
            "[CV 4/5; 7/30] END C=0.01, loss=hinge, max_iter=1000;, score=0.673 total time=   0.1s\n",
            "[CV 5/5; 7/30] START C=0.01, loss=hinge, max_iter=1000..........................\n",
            "[CV 5/5; 7/30] END C=0.01, loss=hinge, max_iter=1000;, score=0.655 total time=   0.1s\n",
            "[CV 1/5; 8/30] START C=0.01, loss=hinge, max_iter=5000..........................\n",
            "[CV 1/5; 8/30] END C=0.01, loss=hinge, max_iter=5000;, score=0.650 total time=   0.1s\n",
            "[CV 2/5; 8/30] START C=0.01, loss=hinge, max_iter=5000..........................\n",
            "[CV 2/5; 8/30] END C=0.01, loss=hinge, max_iter=5000;, score=0.663 total time=   0.1s\n",
            "[CV 3/5; 8/30] START C=0.01, loss=hinge, max_iter=5000..........................\n",
            "[CV 3/5; 8/30] END C=0.01, loss=hinge, max_iter=5000;, score=0.655 total time=   0.2s\n",
            "[CV 4/5; 8/30] START C=0.01, loss=hinge, max_iter=5000..........................\n",
            "[CV 4/5; 8/30] END C=0.01, loss=hinge, max_iter=5000;, score=0.673 total time=   0.2s\n",
            "[CV 5/5; 8/30] START C=0.01, loss=hinge, max_iter=5000..........................\n",
            "[CV 5/5; 8/30] END C=0.01, loss=hinge, max_iter=5000;, score=0.655 total time=   0.1s\n",
            "[CV 1/5; 9/30] START C=0.01, loss=hinge, max_iter=10000.........................\n",
            "[CV 1/5; 9/30] END C=0.01, loss=hinge, max_iter=10000;, score=0.650 total time=   0.1s\n",
            "[CV 2/5; 9/30] START C=0.01, loss=hinge, max_iter=10000.........................\n",
            "[CV 2/5; 9/30] END C=0.01, loss=hinge, max_iter=10000;, score=0.664 total time=   0.1s\n",
            "[CV 3/5; 9/30] START C=0.01, loss=hinge, max_iter=10000.........................\n",
            "[CV 3/5; 9/30] END C=0.01, loss=hinge, max_iter=10000;, score=0.655 total time=   0.1s\n",
            "[CV 4/5; 9/30] START C=0.01, loss=hinge, max_iter=10000.........................\n",
            "[CV 4/5; 9/30] END C=0.01, loss=hinge, max_iter=10000;, score=0.672 total time=   0.1s\n",
            "[CV 5/5; 9/30] START C=0.01, loss=hinge, max_iter=10000.........................\n",
            "[CV 5/5; 9/30] END C=0.01, loss=hinge, max_iter=10000;, score=0.655 total time=   0.1s\n",
            "[CV 1/5; 10/30] START C=0.01, loss=squared_hinge, max_iter=1000.................\n",
            "[CV 1/5; 10/30] END C=0.01, loss=squared_hinge, max_iter=1000;, score=0.370 total time=   0.0s\n",
            "[CV 2/5; 10/30] START C=0.01, loss=squared_hinge, max_iter=1000.................\n",
            "[CV 2/5; 10/30] END C=0.01, loss=squared_hinge, max_iter=1000;, score=0.360 total time=   0.0s\n",
            "[CV 3/5; 10/30] START C=0.01, loss=squared_hinge, max_iter=1000.................\n",
            "[CV 3/5; 10/30] END C=0.01, loss=squared_hinge, max_iter=1000;, score=0.367 total time=   0.0s\n",
            "[CV 4/5; 10/30] START C=0.01, loss=squared_hinge, max_iter=1000.................\n",
            "[CV 4/5; 10/30] END C=0.01, loss=squared_hinge, max_iter=1000;, score=0.351 total time=   0.0s\n",
            "[CV 5/5; 10/30] START C=0.01, loss=squared_hinge, max_iter=1000.................\n",
            "[CV 5/5; 10/30] END C=0.01, loss=squared_hinge, max_iter=1000;, score=0.356 total time=   0.0s\n",
            "[CV 1/5; 11/30] START C=0.01, loss=squared_hinge, max_iter=5000.................\n",
            "[CV 1/5; 11/30] END C=0.01, loss=squared_hinge, max_iter=5000;, score=0.370 total time=   0.0s\n",
            "[CV 2/5; 11/30] START C=0.01, loss=squared_hinge, max_iter=5000.................\n",
            "[CV 2/5; 11/30] END C=0.01, loss=squared_hinge, max_iter=5000;, score=0.360 total time=   0.0s\n",
            "[CV 3/5; 11/30] START C=0.01, loss=squared_hinge, max_iter=5000.................\n",
            "[CV 3/5; 11/30] END C=0.01, loss=squared_hinge, max_iter=5000;, score=0.367 total time=   0.0s\n",
            "[CV 4/5; 11/30] START C=0.01, loss=squared_hinge, max_iter=5000.................\n",
            "[CV 4/5; 11/30] END C=0.01, loss=squared_hinge, max_iter=5000;, score=0.351 total time=   0.0s\n",
            "[CV 5/5; 11/30] START C=0.01, loss=squared_hinge, max_iter=5000.................\n",
            "[CV 5/5; 11/30] END C=0.01, loss=squared_hinge, max_iter=5000;, score=0.356 total time=   0.0s\n",
            "[CV 1/5; 12/30] START C=0.01, loss=squared_hinge, max_iter=10000................\n",
            "[CV 1/5; 12/30] END C=0.01, loss=squared_hinge, max_iter=10000;, score=0.370 total time=   0.0s\n",
            "[CV 2/5; 12/30] START C=0.01, loss=squared_hinge, max_iter=10000................\n",
            "[CV 2/5; 12/30] END C=0.01, loss=squared_hinge, max_iter=10000;, score=0.360 total time=   0.0s\n",
            "[CV 3/5; 12/30] START C=0.01, loss=squared_hinge, max_iter=10000................\n",
            "[CV 3/5; 12/30] END C=0.01, loss=squared_hinge, max_iter=10000;, score=0.367 total time=   0.0s\n",
            "[CV 4/5; 12/30] START C=0.01, loss=squared_hinge, max_iter=10000................\n",
            "[CV 4/5; 12/30] END C=0.01, loss=squared_hinge, max_iter=10000;, score=0.351 total time=   0.0s\n",
            "[CV 5/5; 12/30] START C=0.01, loss=squared_hinge, max_iter=10000................\n",
            "[CV 5/5; 12/30] END C=0.01, loss=squared_hinge, max_iter=10000;, score=0.356 total time=   0.0s\n",
            "[CV 1/5; 13/30] START C=0.1, loss=hinge, max_iter=1000..........................\n",
            "[CV 1/5; 13/30] END C=0.1, loss=hinge, max_iter=1000;, score=0.652 total time=   0.2s\n",
            "[CV 2/5; 13/30] START C=0.1, loss=hinge, max_iter=1000..........................\n",
            "[CV 2/5; 13/30] END C=0.1, loss=hinge, max_iter=1000;, score=0.666 total time=   0.2s\n",
            "[CV 3/5; 13/30] START C=0.1, loss=hinge, max_iter=1000..........................\n",
            "[CV 3/5; 13/30] END C=0.1, loss=hinge, max_iter=1000;, score=0.656 total time=   0.2s\n",
            "[CV 4/5; 13/30] START C=0.1, loss=hinge, max_iter=1000..........................\n",
            "[CV 4/5; 13/30] END C=0.1, loss=hinge, max_iter=1000;, score=0.674 total time=   0.2s\n",
            "[CV 5/5; 13/30] START C=0.1, loss=hinge, max_iter=1000..........................\n",
            "[CV 5/5; 13/30] END C=0.1, loss=hinge, max_iter=1000;, score=0.657 total time=   0.2s\n",
            "[CV 1/5; 14/30] START C=0.1, loss=hinge, max_iter=5000..........................\n",
            "[CV 1/5; 14/30] END C=0.1, loss=hinge, max_iter=5000;, score=0.652 total time=   0.2s\n",
            "[CV 2/5; 14/30] START C=0.1, loss=hinge, max_iter=5000..........................\n",
            "[CV 2/5; 14/30] END C=0.1, loss=hinge, max_iter=5000;, score=0.666 total time=   0.2s\n",
            "[CV 3/5; 14/30] START C=0.1, loss=hinge, max_iter=5000..........................\n",
            "[CV 3/5; 14/30] END C=0.1, loss=hinge, max_iter=5000;, score=0.656 total time=   0.2s\n",
            "[CV 4/5; 14/30] START C=0.1, loss=hinge, max_iter=5000..........................\n",
            "[CV 4/5; 14/30] END C=0.1, loss=hinge, max_iter=5000;, score=0.674 total time=   0.2s\n",
            "[CV 5/5; 14/30] START C=0.1, loss=hinge, max_iter=5000..........................\n",
            "[CV 5/5; 14/30] END C=0.1, loss=hinge, max_iter=5000;, score=0.657 total time=   0.2s\n",
            "[CV 1/5; 15/30] START C=0.1, loss=hinge, max_iter=10000.........................\n",
            "[CV 1/5; 15/30] END C=0.1, loss=hinge, max_iter=10000;, score=0.652 total time=   0.3s\n",
            "[CV 2/5; 15/30] START C=0.1, loss=hinge, max_iter=10000.........................\n",
            "[CV 2/5; 15/30] END C=0.1, loss=hinge, max_iter=10000;, score=0.666 total time=   0.2s\n",
            "[CV 3/5; 15/30] START C=0.1, loss=hinge, max_iter=10000.........................\n",
            "[CV 3/5; 15/30] END C=0.1, loss=hinge, max_iter=10000;, score=0.656 total time=   0.2s\n",
            "[CV 4/5; 15/30] START C=0.1, loss=hinge, max_iter=10000.........................\n",
            "[CV 4/5; 15/30] END C=0.1, loss=hinge, max_iter=10000;, score=0.674 total time=   0.2s\n",
            "[CV 5/5; 15/30] START C=0.1, loss=hinge, max_iter=10000.........................\n",
            "[CV 5/5; 15/30] END C=0.1, loss=hinge, max_iter=10000;, score=0.657 total time=   0.2s\n",
            "[CV 1/5; 16/30] START C=0.1, loss=squared_hinge, max_iter=1000..................\n",
            "[CV 1/5; 16/30] END C=0.1, loss=squared_hinge, max_iter=1000;, score=0.628 total time=   0.0s\n",
            "[CV 2/5; 16/30] START C=0.1, loss=squared_hinge, max_iter=1000..................\n",
            "[CV 2/5; 16/30] END C=0.1, loss=squared_hinge, max_iter=1000;, score=0.634 total time=   0.0s\n",
            "[CV 3/5; 16/30] START C=0.1, loss=squared_hinge, max_iter=1000..................\n",
            "[CV 3/5; 16/30] END C=0.1, loss=squared_hinge, max_iter=1000;, score=0.623 total time=   0.0s\n",
            "[CV 4/5; 16/30] START C=0.1, loss=squared_hinge, max_iter=1000..................\n",
            "[CV 4/5; 16/30] END C=0.1, loss=squared_hinge, max_iter=1000;, score=0.639 total time=   0.0s\n",
            "[CV 5/5; 16/30] START C=0.1, loss=squared_hinge, max_iter=1000..................\n",
            "[CV 5/5; 16/30] END C=0.1, loss=squared_hinge, max_iter=1000;, score=0.623 total time=   0.1s\n",
            "[CV 1/5; 17/30] START C=0.1, loss=squared_hinge, max_iter=5000..................\n",
            "[CV 1/5; 17/30] END C=0.1, loss=squared_hinge, max_iter=5000;, score=0.628 total time=   0.0s\n",
            "[CV 2/5; 17/30] START C=0.1, loss=squared_hinge, max_iter=5000..................\n",
            "[CV 2/5; 17/30] END C=0.1, loss=squared_hinge, max_iter=5000;, score=0.634 total time=   0.0s\n",
            "[CV 3/5; 17/30] START C=0.1, loss=squared_hinge, max_iter=5000..................\n",
            "[CV 3/5; 17/30] END C=0.1, loss=squared_hinge, max_iter=5000;, score=0.623 total time=   0.0s\n",
            "[CV 4/5; 17/30] START C=0.1, loss=squared_hinge, max_iter=5000..................\n",
            "[CV 4/5; 17/30] END C=0.1, loss=squared_hinge, max_iter=5000;, score=0.639 total time=   0.0s\n",
            "[CV 5/5; 17/30] START C=0.1, loss=squared_hinge, max_iter=5000..................\n",
            "[CV 5/5; 17/30] END C=0.1, loss=squared_hinge, max_iter=5000;, score=0.623 total time=   0.0s\n",
            "[CV 1/5; 18/30] START C=0.1, loss=squared_hinge, max_iter=10000.................\n",
            "[CV 1/5; 18/30] END C=0.1, loss=squared_hinge, max_iter=10000;, score=0.628 total time=   0.1s\n",
            "[CV 2/5; 18/30] START C=0.1, loss=squared_hinge, max_iter=10000.................\n",
            "[CV 2/5; 18/30] END C=0.1, loss=squared_hinge, max_iter=10000;, score=0.634 total time=   0.0s\n",
            "[CV 3/5; 18/30] START C=0.1, loss=squared_hinge, max_iter=10000.................\n",
            "[CV 3/5; 18/30] END C=0.1, loss=squared_hinge, max_iter=10000;, score=0.623 total time=   0.0s\n",
            "[CV 4/5; 18/30] START C=0.1, loss=squared_hinge, max_iter=10000.................\n",
            "[CV 4/5; 18/30] END C=0.1, loss=squared_hinge, max_iter=10000;, score=0.639 total time=   0.0s\n",
            "[CV 5/5; 18/30] START C=0.1, loss=squared_hinge, max_iter=10000.................\n",
            "[CV 5/5; 18/30] END C=0.1, loss=squared_hinge, max_iter=10000;, score=0.623 total time=   0.0s\n",
            "[CV 1/5; 19/30] START C=1, loss=hinge, max_iter=1000............................\n",
            "[CV 1/5; 19/30] END C=1, loss=hinge, max_iter=1000;, score=0.678 total time=   0.4s\n",
            "[CV 2/5; 19/30] START C=1, loss=hinge, max_iter=1000............................\n",
            "[CV 2/5; 19/30] END C=1, loss=hinge, max_iter=1000;, score=0.691 total time=   0.6s\n",
            "[CV 3/5; 19/30] START C=1, loss=hinge, max_iter=1000............................\n",
            "[CV 3/5; 19/30] END C=1, loss=hinge, max_iter=1000;, score=0.681 total time=   0.3s\n",
            "[CV 4/5; 19/30] START C=1, loss=hinge, max_iter=1000............................\n",
            "[CV 4/5; 19/30] END C=1, loss=hinge, max_iter=1000;, score=0.695 total time=   0.5s\n",
            "[CV 5/5; 19/30] START C=1, loss=hinge, max_iter=1000............................\n",
            "[CV 5/5; 19/30] END C=1, loss=hinge, max_iter=1000;, score=0.683 total time=   0.5s\n",
            "[CV 1/5; 20/30] START C=1, loss=hinge, max_iter=5000............................\n",
            "[CV 1/5; 20/30] END C=1, loss=hinge, max_iter=5000;, score=0.678 total time=   0.4s\n",
            "[CV 2/5; 20/30] START C=1, loss=hinge, max_iter=5000............................\n",
            "[CV 2/5; 20/30] END C=1, loss=hinge, max_iter=5000;, score=0.691 total time=   0.7s\n",
            "[CV 3/5; 20/30] START C=1, loss=hinge, max_iter=5000............................\n",
            "[CV 3/5; 20/30] END C=1, loss=hinge, max_iter=5000;, score=0.681 total time=   0.3s\n",
            "[CV 4/5; 20/30] START C=1, loss=hinge, max_iter=5000............................\n",
            "[CV 4/5; 20/30] END C=1, loss=hinge, max_iter=5000;, score=0.695 total time=   0.9s\n",
            "[CV 5/5; 20/30] START C=1, loss=hinge, max_iter=5000............................\n",
            "[CV 5/5; 20/30] END C=1, loss=hinge, max_iter=5000;, score=0.683 total time=   0.6s\n",
            "[CV 1/5; 21/30] START C=1, loss=hinge, max_iter=10000...........................\n",
            "[CV 1/5; 21/30] END C=1, loss=hinge, max_iter=10000;, score=0.678 total time=   0.5s\n",
            "[CV 2/5; 21/30] START C=1, loss=hinge, max_iter=10000...........................\n",
            "[CV 2/5; 21/30] END C=1, loss=hinge, max_iter=10000;, score=0.691 total time=   0.9s\n",
            "[CV 3/5; 21/30] START C=1, loss=hinge, max_iter=10000...........................\n",
            "[CV 3/5; 21/30] END C=1, loss=hinge, max_iter=10000;, score=0.681 total time=   0.3s\n",
            "[CV 4/5; 21/30] START C=1, loss=hinge, max_iter=10000...........................\n",
            "[CV 4/5; 21/30] END C=1, loss=hinge, max_iter=10000;, score=0.695 total time=   0.5s\n",
            "[CV 5/5; 21/30] START C=1, loss=hinge, max_iter=10000...........................\n",
            "[CV 5/5; 21/30] END C=1, loss=hinge, max_iter=10000;, score=0.683 total time=   0.4s\n",
            "[CV 1/5; 22/30] START C=1, loss=squared_hinge, max_iter=1000....................\n",
            "[CV 1/5; 22/30] END C=1, loss=squared_hinge, max_iter=1000;, score=0.680 total time=   0.1s\n",
            "[CV 2/5; 22/30] START C=1, loss=squared_hinge, max_iter=1000....................\n",
            "[CV 2/5; 22/30] END C=1, loss=squared_hinge, max_iter=1000;, score=0.694 total time=   0.1s\n",
            "[CV 3/5; 22/30] START C=1, loss=squared_hinge, max_iter=1000....................\n",
            "[CV 3/5; 22/30] END C=1, loss=squared_hinge, max_iter=1000;, score=0.681 total time=   0.1s\n",
            "[CV 4/5; 22/30] START C=1, loss=squared_hinge, max_iter=1000....................\n",
            "[CV 4/5; 22/30] END C=1, loss=squared_hinge, max_iter=1000;, score=0.694 total time=   0.1s\n",
            "[CV 5/5; 22/30] START C=1, loss=squared_hinge, max_iter=1000....................\n",
            "[CV 5/5; 22/30] END C=1, loss=squared_hinge, max_iter=1000;, score=0.684 total time=   0.1s\n",
            "[CV 1/5; 23/30] START C=1, loss=squared_hinge, max_iter=5000....................\n",
            "[CV 1/5; 23/30] END C=1, loss=squared_hinge, max_iter=5000;, score=0.680 total time=   0.1s\n",
            "[CV 2/5; 23/30] START C=1, loss=squared_hinge, max_iter=5000....................\n",
            "[CV 2/5; 23/30] END C=1, loss=squared_hinge, max_iter=5000;, score=0.694 total time=   0.1s\n",
            "[CV 3/5; 23/30] START C=1, loss=squared_hinge, max_iter=5000....................\n",
            "[CV 3/5; 23/30] END C=1, loss=squared_hinge, max_iter=5000;, score=0.681 total time=   0.1s\n",
            "[CV 4/5; 23/30] START C=1, loss=squared_hinge, max_iter=5000....................\n",
            "[CV 4/5; 23/30] END C=1, loss=squared_hinge, max_iter=5000;, score=0.694 total time=   0.1s\n",
            "[CV 5/5; 23/30] START C=1, loss=squared_hinge, max_iter=5000....................\n",
            "[CV 5/5; 23/30] END C=1, loss=squared_hinge, max_iter=5000;, score=0.684 total time=   0.1s\n",
            "[CV 1/5; 24/30] START C=1, loss=squared_hinge, max_iter=10000...................\n",
            "[CV 1/5; 24/30] END C=1, loss=squared_hinge, max_iter=10000;, score=0.680 total time=   0.1s\n",
            "[CV 2/5; 24/30] START C=1, loss=squared_hinge, max_iter=10000...................\n",
            "[CV 2/5; 24/30] END C=1, loss=squared_hinge, max_iter=10000;, score=0.694 total time=   0.1s\n",
            "[CV 3/5; 24/30] START C=1, loss=squared_hinge, max_iter=10000...................\n",
            "[CV 3/5; 24/30] END C=1, loss=squared_hinge, max_iter=10000;, score=0.681 total time=   0.1s\n",
            "[CV 4/5; 24/30] START C=1, loss=squared_hinge, max_iter=10000...................\n",
            "[CV 4/5; 24/30] END C=1, loss=squared_hinge, max_iter=10000;, score=0.694 total time=   0.1s\n",
            "[CV 5/5; 24/30] START C=1, loss=squared_hinge, max_iter=10000...................\n",
            "[CV 5/5; 24/30] END C=1, loss=squared_hinge, max_iter=10000;, score=0.684 total time=   0.1s\n",
            "[CV 1/5; 25/30] START C=10, loss=hinge, max_iter=1000...........................\n",
            "[CV 1/5; 25/30] END C=10, loss=hinge, max_iter=1000;, score=0.645 total time=   1.1s\n",
            "[CV 2/5; 25/30] START C=10, loss=hinge, max_iter=1000...........................\n",
            "[CV 2/5; 25/30] END C=10, loss=hinge, max_iter=1000;, score=0.646 total time=   1.1s\n",
            "[CV 3/5; 25/30] START C=10, loss=hinge, max_iter=1000...........................\n",
            "[CV 3/5; 25/30] END C=10, loss=hinge, max_iter=1000;, score=0.643 total time=   1.1s\n",
            "[CV 4/5; 25/30] START C=10, loss=hinge, max_iter=1000...........................\n",
            "[CV 4/5; 25/30] END C=10, loss=hinge, max_iter=1000;, score=0.656 total time=   1.1s\n",
            "[CV 5/5; 25/30] START C=10, loss=hinge, max_iter=1000...........................\n",
            "[CV 5/5; 25/30] END C=10, loss=hinge, max_iter=1000;, score=0.646 total time=   1.1s\n",
            "[CV 1/5; 26/30] START C=10, loss=hinge, max_iter=5000...........................\n",
            "[CV 1/5; 26/30] END C=10, loss=hinge, max_iter=5000;, score=0.645 total time=   1.2s\n",
            "[CV 2/5; 26/30] START C=10, loss=hinge, max_iter=5000...........................\n",
            "[CV 2/5; 26/30] END C=10, loss=hinge, max_iter=5000;, score=0.646 total time=   1.4s\n",
            "[CV 3/5; 26/30] START C=10, loss=hinge, max_iter=5000...........................\n",
            "[CV 3/5; 26/30] END C=10, loss=hinge, max_iter=5000;, score=0.643 total time=   1.4s\n",
            "[CV 4/5; 26/30] START C=10, loss=hinge, max_iter=5000...........................\n",
            "[CV 4/5; 26/30] END C=10, loss=hinge, max_iter=5000;, score=0.656 total time=   1.4s\n",
            "[CV 5/5; 26/30] START C=10, loss=hinge, max_iter=5000...........................\n",
            "[CV 5/5; 26/30] END C=10, loss=hinge, max_iter=5000;, score=0.646 total time=   1.6s\n",
            "[CV 1/5; 27/30] START C=10, loss=hinge, max_iter=10000..........................\n",
            "[CV 1/5; 27/30] END C=10, loss=hinge, max_iter=10000;, score=0.645 total time=   1.2s\n",
            "[CV 2/5; 27/30] START C=10, loss=hinge, max_iter=10000..........................\n",
            "[CV 2/5; 27/30] END C=10, loss=hinge, max_iter=10000;, score=0.646 total time=   1.3s\n",
            "[CV 3/5; 27/30] START C=10, loss=hinge, max_iter=10000..........................\n",
            "[CV 3/5; 27/30] END C=10, loss=hinge, max_iter=10000;, score=0.643 total time=   1.3s\n",
            "[CV 4/5; 27/30] START C=10, loss=hinge, max_iter=10000..........................\n",
            "[CV 4/5; 27/30] END C=10, loss=hinge, max_iter=10000;, score=0.656 total time=   1.1s\n",
            "[CV 5/5; 27/30] START C=10, loss=hinge, max_iter=10000..........................\n",
            "[CV 5/5; 27/30] END C=10, loss=hinge, max_iter=10000;, score=0.646 total time=   1.5s\n",
            "[CV 1/5; 28/30] START C=10, loss=squared_hinge, max_iter=1000...................\n",
            "[CV 1/5; 28/30] END C=10, loss=squared_hinge, max_iter=1000;, score=0.649 total time=   1.0s\n",
            "[CV 2/5; 28/30] START C=10, loss=squared_hinge, max_iter=1000...................\n",
            "[CV 2/5; 28/30] END C=10, loss=squared_hinge, max_iter=1000;, score=0.653 total time=   0.9s\n",
            "[CV 3/5; 28/30] START C=10, loss=squared_hinge, max_iter=1000...................\n",
            "[CV 3/5; 28/30] END C=10, loss=squared_hinge, max_iter=1000;, score=0.650 total time=   0.9s\n",
            "[CV 4/5; 28/30] START C=10, loss=squared_hinge, max_iter=1000...................\n",
            "[CV 4/5; 28/30] END C=10, loss=squared_hinge, max_iter=1000;, score=0.667 total time=   1.0s\n",
            "[CV 5/5; 28/30] START C=10, loss=squared_hinge, max_iter=1000...................\n",
            "[CV 5/5; 28/30] END C=10, loss=squared_hinge, max_iter=1000;, score=0.653 total time=   0.9s\n",
            "[CV 1/5; 29/30] START C=10, loss=squared_hinge, max_iter=5000...................\n",
            "[CV 1/5; 29/30] END C=10, loss=squared_hinge, max_iter=5000;, score=0.649 total time=   1.0s\n",
            "[CV 2/5; 29/30] START C=10, loss=squared_hinge, max_iter=5000...................\n",
            "[CV 2/5; 29/30] END C=10, loss=squared_hinge, max_iter=5000;, score=0.653 total time=   0.9s\n",
            "[CV 3/5; 29/30] START C=10, loss=squared_hinge, max_iter=5000...................\n",
            "[CV 3/5; 29/30] END C=10, loss=squared_hinge, max_iter=5000;, score=0.650 total time=   0.9s\n",
            "[CV 4/5; 29/30] START C=10, loss=squared_hinge, max_iter=5000...................\n",
            "[CV 4/5; 29/30] END C=10, loss=squared_hinge, max_iter=5000;, score=0.667 total time=   0.9s\n",
            "[CV 5/5; 29/30] START C=10, loss=squared_hinge, max_iter=5000...................\n",
            "[CV 5/5; 29/30] END C=10, loss=squared_hinge, max_iter=5000;, score=0.653 total time=   0.9s\n",
            "[CV 1/5; 30/30] START C=10, loss=squared_hinge, max_iter=10000..................\n",
            "[CV 1/5; 30/30] END C=10, loss=squared_hinge, max_iter=10000;, score=0.649 total time=   0.9s\n",
            "[CV 2/5; 30/30] START C=10, loss=squared_hinge, max_iter=10000..................\n",
            "[CV 2/5; 30/30] END C=10, loss=squared_hinge, max_iter=10000;, score=0.653 total time=   0.9s\n",
            "[CV 3/5; 30/30] START C=10, loss=squared_hinge, max_iter=10000..................\n",
            "[CV 3/5; 30/30] END C=10, loss=squared_hinge, max_iter=10000;, score=0.650 total time=   0.9s\n",
            "[CV 4/5; 30/30] START C=10, loss=squared_hinge, max_iter=10000..................\n",
            "[CV 4/5; 30/30] END C=10, loss=squared_hinge, max_iter=10000;, score=0.667 total time=   0.9s\n",
            "[CV 5/5; 30/30] START C=10, loss=squared_hinge, max_iter=10000..................\n",
            "[CV 5/5; 30/30] END C=10, loss=squared_hinge, max_iter=10000;, score=0.653 total time=   0.9s\n",
            "Best parameters for LinearSVC: {'C': 1, 'loss': 'squared_hinge', 'max_iter': 1000}\n"
          ]
        }
      ],
      "source": [
        "param_grid_svc = {\n",
        "    'C': [0.001, 0.01, 0.1, 1, 10],\n",
        "    'loss': ['hinge', 'squared_hinge'],\n",
        "    'max_iter': [1000, 5000, 10000]\n",
        "}\n",
        "\n",
        "# Grid search for LinearSVC\n",
        "grid_search_svc = GridSearchCV(LinearSVC(), param_grid_svc, verbose = 10)\n",
        "grid_search_svc.fit(X_train_vec, y_train)\n",
        "\n",
        "# After fitting, you would typically print the best parameters as follows:\n",
        "print(\"Best parameters for LinearSVC:\", grid_search_svc.best_params_)"
      ]
    },
    {
      "cell_type": "markdown",
      "metadata": {
        "id": "Iso3MWmKBfc3"
      },
      "source": [
        "## Now apply the final model to the test set, and produce a confusion matrix and classification report:"
      ]
    },
    {
      "cell_type": "code",
      "execution_count": 38,
      "metadata": {
        "id": "lcpd3dcqulgh"
      },
      "outputs": [
        {
          "data": {
            "image/png": "[encoded data removed]",
            "text/plain": [
              "<Figure size 1000x700 with 2 Axes>"
            ]
          },
          "metadata": {},
          "output_type": "display_data"
        },
        {
          "name": "stdout",
          "output_type": "stream",
          "text": [
            "\n",
            "Classification Report:\n",
            "\n"
          ]
        }
      ],
      "source": [
        "# Compute confusion matrix\n",
        "cm = confusion_matrix(y_test, y_pred)\n",
        "labels = sorted(list(set(y_test)))\n",
        "\n",
        "# Plot the heatmap\n",
        "plt.figure(figsize=(10, 7))\n",
        "sns.heatmap(cm, annot=True, fmt=\"d\", cmap=\"Blues\", xticklabels=labels, yticklabels=labels)\n",
        "plt.xlabel('Predicted')\n",
        "plt.ylabel('True')\n",
        "plt.title('Confusion Matrix')\n",
        "plt.show()\n",
        "\n",
        "print(\"\\nClassification Report:\")\n",
        "print()"
      ]
    },
    {
      "cell_type": "markdown",
      "metadata": {
        "id": "Uv_-FOmqBlWE"
      },
      "source": [
        "**Which categories were commonly confused, and is that surprising?**"
      ]
    },
    {
      "cell_type": "markdown",
      "metadata": {
        "id": "ZSzqKrnFB8BD"
      },
      "source": []
    },
    {
      "cell_type": "markdown",
      "metadata": {
        "id": "O7ub8MedCPd-"
      },
      "source": [
        "**Which metric(s) might we choose to evaluate our model's performance based on for this dataset and why?**"
      ]
    },
    {
      "cell_type": "markdown",
      "metadata": {
        "id": "qXmWCTBiCWaE"
      },
      "source": []
    },
    {
      "cell_type": "markdown",
      "metadata": {
        "id": "2ODFAUqhCYqH"
      },
      "source": [
        "## As a final step, I've provide three different new texts I pulled from various sources, let's see how our model works in predicting labels on these unseen texts..."
      ]
    },
    {
      "cell_type": "code",
      "execution_count": null,
      "metadata": {
        "id": "8HG44IkZuoxu"
      },
      "outputs": [],
      "source": [
        "# Toy corpus\n",
        "toy_corpus = [\n",
        "    \"On Tuesday, the Organisation for Economic Cooperation and Development (OECD) published its latest outlook for the global economy. Describing the prospects for growth as “weak”, with risks “tilted to the downside”, the OECD singled out two worrying trends.\",\n",
        "    \"His mother’s roses were in full bloom, red and pink and riotous, just the way they all liked them, and as Nicholas drew close, he felt their scent in the damp air, drifting lightly over his clothes and under his nose. He’d never been particularly fond of the smell of roses—he preferred his flowers less fussy—but when everything came together in moments like this: the roses and the mist, the damp of the earth…\",\n",
        "    \"Ah sinful nation, a people laden with iniquity, a seed of evildoers, children that are corrupters: they have forsaken the LORD, they have provoked the Holy One of Israel unto anger, they are gone away backward.\"\n",
        "]\n",
        "\n",
        "# Vectorize and predict using the best model\n",
        "toy_corpus_vec =\n",
        "num_features =\n",
        "num_features\n"
      ]
    },
    {
      "cell_type": "markdown",
      "metadata": {
        "id": "qNJaBnDyCrZI"
      },
      "source": [
        "**Why is it important that we use the same number of features here as we did for the training corpus?**"
      ]
    },
    {
      "cell_type": "markdown",
      "metadata": {
        "id": "jEdgANFfCwho"
      },
      "source": []
    },
    {
      "cell_type": "code",
      "execution_count": null,
      "metadata": {
        "id": "yUuWStz7CjTg"
      },
      "outputs": [],
      "source": [
        "predicted_labels =\n",
        "\n",
        "for text, label in zip(toy_corpus, predicted_labels):\n",
        "    print(f\"'{text}' is predicted as '{label}' category.\")"
      ]
    },
    {
      "cell_type": "markdown",
      "metadata": {
        "id": "ILqwRFMzCyB8"
      },
      "source": [
        "**Did the model seem to apply the correct label for the toy corpus?**"
      ]
    },
    {
      "cell_type": "markdown",
      "metadata": {
        "id": "CeDknXwZC2Lw"
      },
      "source": []
    }
  ],
  "metadata": {
    "colab": {
      "provenance": []
    },
    "kernelspec": {
      "display_name": "Python 3",
      "name": "python3"
    },
    "language_info": {
      "codemirror_mode": {
        "name": "ipython",
        "version": 3
      },
      "file_extension": ".py",
      "mimetype": "text/x-python",
      "name": "python",
      "nbconvert_exporter": "python",
      "pygments_lexer": "ipython3",
      "version": "3.11.4"
    }
  },
  "nbformat": 4,
  "nbformat_minor": 0
}
